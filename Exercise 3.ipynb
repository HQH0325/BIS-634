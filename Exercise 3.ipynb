{
 "cells": [
  {
   "cell_type": "code",
   "execution_count": 63,
   "id": "aa66d8ca",
   "metadata": {},
   "outputs": [],
   "source": [
    "import pandas as pd\n",
    "import matplotlib\n",
    "import matplotlib.pyplot as plt"
   ]
  },
  {
   "cell_type": "code",
   "execution_count": 64,
   "id": "8ebea6cd",
   "metadata": {},
   "outputs": [],
   "source": [
    "data = pd.read_csv(\"https://raw.githubusercontent.com/nytimes/covid-19-data/master/us-states.csv\")"
   ]
  },
  {
   "cell_type": "code",
   "execution_count": 65,
   "id": "4ff90a90",
   "metadata": {},
   "outputs": [
    {
     "data": {
      "text/html": [
       "<div>\n",
       "<style scoped>\n",
       "    .dataframe tbody tr th:only-of-type {\n",
       "        vertical-align: middle;\n",
       "    }\n",
       "\n",
       "    .dataframe tbody tr th {\n",
       "        vertical-align: top;\n",
       "    }\n",
       "\n",
       "    .dataframe thead th {\n",
       "        text-align: right;\n",
       "    }\n",
       "</style>\n",
       "<table border=\"1\" class=\"dataframe\">\n",
       "  <thead>\n",
       "    <tr style=\"text-align: right;\">\n",
       "      <th></th>\n",
       "      <th>date</th>\n",
       "      <th>state</th>\n",
       "      <th>fips</th>\n",
       "      <th>cases</th>\n",
       "      <th>deaths</th>\n",
       "    </tr>\n",
       "  </thead>\n",
       "  <tbody>\n",
       "    <tr>\n",
       "      <th>0</th>\n",
       "      <td>2020-01-21</td>\n",
       "      <td>Washington</td>\n",
       "      <td>53</td>\n",
       "      <td>1</td>\n",
       "      <td>0</td>\n",
       "    </tr>\n",
       "    <tr>\n",
       "      <th>1</th>\n",
       "      <td>2020-01-22</td>\n",
       "      <td>Washington</td>\n",
       "      <td>53</td>\n",
       "      <td>1</td>\n",
       "      <td>0</td>\n",
       "    </tr>\n",
       "    <tr>\n",
       "      <th>2</th>\n",
       "      <td>2020-01-23</td>\n",
       "      <td>Washington</td>\n",
       "      <td>53</td>\n",
       "      <td>1</td>\n",
       "      <td>0</td>\n",
       "    </tr>\n",
       "    <tr>\n",
       "      <th>3</th>\n",
       "      <td>2020-01-24</td>\n",
       "      <td>Illinois</td>\n",
       "      <td>17</td>\n",
       "      <td>1</td>\n",
       "      <td>0</td>\n",
       "    </tr>\n",
       "    <tr>\n",
       "      <th>4</th>\n",
       "      <td>2020-01-24</td>\n",
       "      <td>Washington</td>\n",
       "      <td>53</td>\n",
       "      <td>1</td>\n",
       "      <td>0</td>\n",
       "    </tr>\n",
       "  </tbody>\n",
       "</table>\n",
       "</div>"
      ],
      "text/plain": [
       "         date       state  fips  cases  deaths\n",
       "0  2020-01-21  Washington    53      1       0\n",
       "1  2020-01-22  Washington    53      1       0\n",
       "2  2020-01-23  Washington    53      1       0\n",
       "3  2020-01-24    Illinois    17      1       0\n",
       "4  2020-01-24  Washington    53      1       0"
      ]
     },
     "execution_count": 65,
     "metadata": {},
     "output_type": "execute_result"
    }
   ],
   "source": [
    "data.head()"
   ]
  },
  {
   "cell_type": "code",
   "execution_count": 68,
   "id": "08a050c9",
   "metadata": {},
   "outputs": [],
   "source": [
    "# Make a function that takes a list of state names and plots their new cases vs date\n",
    "def  states_newcases(states):\n",
    "    city = pd.DataFrame()\n",
    "    for i in states:\n",
    "        city=data[data[\"state\"]==i]\n",
    "        city['new'] = city['cases'].diff()\n",
    "        plt.plot(city['date'], city['new'], label = i)\n",
    "        \n",
    "    plt.legend()\n",
    "    plt.xlabel('date',fontsize=10) \n",
    "    plt.ylabel('new cases',fontsize=10) \n",
    "    plt.title('new Covid-19 cases vs date in selected states',fontsize=10,)\n",
    "    plt.show()\n"
   ]
  },
  {
   "cell_type": "code",
   "execution_count": 78,
   "id": "c21a0f06",
   "metadata": {},
   "outputs": [
    {
     "name": "stderr",
     "output_type": "stream",
     "text": [
      "/var/folders/07/s55yk2gx6s563l2wgppmd38w0000gn/T/ipykernel_19158/3403843102.py:5: SettingWithCopyWarning: \n",
      "A value is trying to be set on a copy of a slice from a DataFrame.\n",
      "Try using .loc[row_indexer,col_indexer] = value instead\n",
      "\n",
      "See the caveats in the documentation: https://pandas.pydata.org/pandas-docs/stable/user_guide/indexing.html#returning-a-view-versus-a-copy\n",
      "  city['new'] = city['cases'].diff()\n"
     ]
    },
    {
     "data": {
      "image/png": "[encoded data removed]",
      "text/plain": [
       "<Figure size 432x288 with 1 Axes>"
      ]
     },
     "metadata": {
      "needs_background": "light"
     },
     "output_type": "display_data"
    },
    {
     "name": "stderr",
     "output_type": "stream",
     "text": [
      "/var/folders/07/s55yk2gx6s563l2wgppmd38w0000gn/T/ipykernel_19158/3403843102.py:5: SettingWithCopyWarning: \n",
      "A value is trying to be set on a copy of a slice from a DataFrame.\n",
      "Try using .loc[row_indexer,col_indexer] = value instead\n",
      "\n",
      "See the caveats in the documentation: https://pandas.pydata.org/pandas-docs/stable/user_guide/indexing.html#returning-a-view-versus-a-copy\n",
      "  city['new'] = city['cases'].diff()\n",
      "/var/folders/07/s55yk2gx6s563l2wgppmd38w0000gn/T/ipykernel_19158/3403843102.py:5: SettingWithCopyWarning: \n",
      "A value is trying to be set on a copy of a slice from a DataFrame.\n",
      "Try using .loc[row_indexer,col_indexer] = value instead\n",
      "\n",
      "See the caveats in the documentation: https://pandas.pydata.org/pandas-docs/stable/user_guide/indexing.html#returning-a-view-versus-a-copy\n",
      "  city['new'] = city['cases'].diff()\n",
      "/var/folders/07/s55yk2gx6s563l2wgppmd38w0000gn/T/ipykernel_19158/3403843102.py:5: SettingWithCopyWarning: \n",
      "A value is trying to be set on a copy of a slice from a DataFrame.\n",
      "Try using .loc[row_indexer,col_indexer] = value instead\n",
      "\n",
      "See the caveats in the documentation: https://pandas.pydata.org/pandas-docs/stable/user_guide/indexing.html#returning-a-view-versus-a-copy\n",
      "  city['new'] = city['cases'].diff()\n"
     ]
    },
    {
     "data": {
      "image/png": "[encoded data removed]",
      "text/plain": [
       "<Figure size 432x288 with 1 Axes>"
      ]
     },
     "metadata": {
      "needs_background": "light"
     },
     "output_type": "display_data"
    }
   ],
   "source": [
    "# test\n",
    "dff = states_newcases(['Washington'])\n",
    "dff = states_newcases(['Connecticut', 'Alabama', 'California'])"
   ]
  },
  {
   "cell_type": "code",
   "execution_count": 123,
   "id": "e8c1ff0f",
   "metadata": {},
   "outputs": [],
   "source": [
    "# Make a function that takes the name of a state and returns the date of its highest number of new cases. \n",
    "def max_case(state):\n",
    "    city = pd.DataFrame()\n",
    "    city=data[data[\"state\"]==state]\n",
    "    city['new'] = city['cases'].diff()\n",
    "    num = city['new'].max()\n",
    "    return  city.loc[city['new'] == num]['date'].to_string(index=False)"
   ]
  },
  {
   "cell_type": "code",
   "execution_count": 127,
   "id": "599ebd81",
   "metadata": {},
   "outputs": [
    {
     "name": "stderr",
     "output_type": "stream",
     "text": [
      "/var/folders/07/s55yk2gx6s563l2wgppmd38w0000gn/T/ipykernel_19158/2287473937.py:4: SettingWithCopyWarning: \n",
      "A value is trying to be set on a copy of a slice from a DataFrame.\n",
      "Try using .loc[row_indexer,col_indexer] = value instead\n",
      "\n",
      "See the caveats in the documentation: https://pandas.pydata.org/pandas-docs/stable/user_guide/indexing.html#returning-a-view-versus-a-copy\n",
      "  city['new'] = city['cases'].diff()\n"
     ]
    },
    {
     "data": {
      "text/plain": [
       "'2022-01-18'"
      ]
     },
     "execution_count": 127,
     "metadata": {},
     "output_type": "execute_result"
    }
   ],
   "source": [
    "# test\n",
    "max_case(\"Washington\")"
   ]
  },
  {
   "cell_type": "code",
   "execution_count": 160,
   "id": "7cbd1c41",
   "metadata": {},
   "outputs": [],
   "source": [
    "# Compare two states\n",
    "from dateutil import parser\n",
    "def compare_two_states(state1,state2):\n",
    "    date1 = parser.parse(max_case(state1)) \n",
    "    date2 = parser.parse(max_case(state2))   \n",
    "    if date1 == date2:\n",
    "        print(state1 , 'and', state2, 'had their highest number of daily new cases the same day.')\n",
    "    elif date1 > date2:\n",
    "        diff = date1-date2\n",
    "        print(state2 , 'had the highest number of daily new cases first', state1, 'and it is', str(diff.days), \"days earlier.\")\n",
    "    elif date1 < date2:\n",
    "        diff = date2 - date1     \n",
    "        print(state1 , 'had the highest number of daily new cases first', state2, 'and it is', str(diff.days), \"days earlier.\")\n"
   ]
  },
  {
   "cell_type": "code",
   "execution_count": 161,
   "id": "07eaa2b3",
   "metadata": {},
   "outputs": [
    {
     "name": "stdout",
     "output_type": "stream",
     "text": [
      "California had the highest number of daily new cases first Washington and it is 8 days earlier.\n",
      "West Virginia had the highest number of daily new cases first Connecticut and it is 7 days earlier.\n",
      "New York had the highest number of daily new cases first Wisconsin and it is 9 days earlier.\n"
     ]
    },
    {
     "name": "stderr",
     "output_type": "stream",
     "text": [
      "/var/folders/07/s55yk2gx6s563l2wgppmd38w0000gn/T/ipykernel_19158/2287473937.py:4: SettingWithCopyWarning: \n",
      "A value is trying to be set on a copy of a slice from a DataFrame.\n",
      "Try using .loc[row_indexer,col_indexer] = value instead\n",
      "\n",
      "See the caveats in the documentation: https://pandas.pydata.org/pandas-docs/stable/user_guide/indexing.html#returning-a-view-versus-a-copy\n",
      "  city['new'] = city['cases'].diff()\n"
     ]
    }
   ],
   "source": [
    "compare_two_states(\"Washington\",\"California\")\n",
    "compare_two_states(\"West Virginia\",\"Connecticut\")\n",
    "compare_two_states(\"Wisconsin\",\"New York\")"
   ]
  },
  {
   "cell_type": "code",
   "execution_count": null,
   "id": "e31ce7b5",
   "metadata": {},
   "outputs": [],
   "source": []
  }
 ],
 "metadata": {
  "kernelspec": {
   "display_name": "Python 3 (ipykernel)",
   "language": "python",
   "name": "python3"
  },
  "language_info": {
   "codemirror_mode": {
    "name": "ipython",
    "version": 3
   },
   "file_extension": ".py",
   "mimetype": "text/x-python",
   "name": "python",
   "nbconvert_exporter": "python",
   "pygments_lexer": "ipython3",
   "version": "3.9.7"
  }
 },
 "nbformat": 4,
 "nbformat_minor": 5
}
