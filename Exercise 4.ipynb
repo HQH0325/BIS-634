{
 "cells": [
  {
   "cell_type": "code",
   "execution_count": 11,
   "id": "cb11c5bd",
   "metadata": {},
   "outputs": [],
   "source": [
    "import xml.etree.ElementTree as ET\n",
    "tree = ET.parse('desc2022.xml')\n",
    "root = tree.getroot()"
   ]
  },
  {
   "cell_type": "code",
   "execution_count": 12,
   "id": "86440e40",
   "metadata": {},
   "outputs": [],
   "source": [
    "Record = tree.findall(\"DescriptorRecord\")"
   ]
  },
  {
   "cell_type": "code",
   "execution_count": 23,
   "id": "2ad248e3",
   "metadata": {},
   "outputs": [],
   "source": [
    "#q1\n",
    "def Name_associated_UI(UI,tree):\n",
    "    for i in Record:\n",
    "        if i.attrib['DescriptorClass'] != \"3\":\n",
    "            Name = i.find('DescriptorName').find('String').text\n",
    "            DescirptorUI = i.find('DescriptorUI').text\n",
    "            if DescirptorUI == UI:\n",
    "                return Name    "
   ]
  },
  {
   "cell_type": "code",
   "execution_count": 29,
   "id": "21e9d110",
   "metadata": {},
   "outputs": [],
   "source": [
    "#q2\n",
    "def UI_associated_Name(Name,tree):\n",
    "    for j in Record:\n",
    "        if j.attrib['DescriptorClass'] != \"3\":\n",
    "            UI = j.find('DescriptorUI').text\n",
    "            DescriptorName = j.find('DescriptorName').find('String').text\n",
    "            if DescriptorName == Name:\n",
    "                return UI"
   ]
  },
  {
   "cell_type": "code",
   "execution_count": 50,
   "id": "06fa105f",
   "metadata": {},
   "outputs": [],
   "source": [
    "#q3\n",
    "def Numbers_associated_UI(UI, tree):\n",
    "    Tree_Numbers = []\n",
    "    for k in Record:\n",
    "        if k.attrib['DescriptorClass'] != \"3\":\n",
    "            DescirptorUI = k.find('DescriptorUI').text\n",
    "            if DescirptorUI == UI:\n",
    "                TreeNumbers = k.find('TreeNumberList').findall('TreeNumber')\n",
    "                for num in TreeNumbers:\n",
    "                    Tree_Numbers.append(num.text[0:3])         \n",
    "                return Tree_Numbers"
   ]
  },
  {
   "cell_type": "code",
   "execution_count": 72,
   "id": "d01086f2",
   "metadata": {},
   "outputs": [],
   "source": [
    "def is_descedants(parent,descedant):\n",
    "    subtype = False\n",
    "    for m in parent:\n",
    "        subtype_num = descedant.count(m)\n",
    "        if subtype_num > 0:\n",
    "            subtype = True\n",
    "        else:\n",
    "            subtype = False\n",
    "            return subtype\n",
    "    return subtype"
   ]
  },
  {
   "cell_type": "code",
   "execution_count": 98,
   "id": "f22f3c2c",
   "metadata": {},
   "outputs": [],
   "source": [
    "def descedants(parent,tree):\n",
    "    \n",
    "    for n in Record:\n",
    "        Tree_Numbers = []\n",
    "        if n.attrib['DescriptorClass'] != \"3\":\n",
    "            DescriptorName = n.find('DescriptorName').find('String').text\n",
    "            TreeNumbers = n.find('TreeNumberList').findall('TreeNumber')\n",
    "            for num in TreeNumbers:\n",
    "                    Tree_Numbers.append(num.text[0:3]) \n",
    "            if is_descedants(parent,Tree_Numbers):\n",
    "                print(DescriptorName)"
   ]
  },
  {
   "cell_type": "code",
   "execution_count": null,
   "id": "6f2b222a",
   "metadata": {},
   "outputs": [],
   "source": [
    "def descedants(parent,tree):\n",
    "    \n",
    "    for n in Record:\n",
    "        Tree_Numbers = []\n",
    "        if n.attrib['DescriptorClass'] != \"3\":\n",
    "            DescriptorName = n.find('DescriptorName').find('String').text\n",
    "            TreeNumbers = n.find('TreeNumberList').findall('TreeNumber')\n",
    "            for num in TreeNumbers:\n",
    "                    Tree_Numbers.append(num.text[0:3]) \n",
    "            for m in parent:\n",
    "                subtype_num = Tree_Numbers.count(m)\n",
    "            if is_descedants(parent,Tree_Numbers):\n",
    "                print(DescriptorName)"
   ]
  },
  {
   "cell_type": "code",
   "execution_count": 99,
   "id": "d43e3ddb",
   "metadata": {},
   "outputs": [
    {
     "data": {
      "text/plain": [
       "'Immune System Diseases'"
      ]
     },
     "execution_count": 99,
     "metadata": {},
     "output_type": "execute_result"
    }
   ],
   "source": [
    "Name_associated_UI(\"D007154\",tree)"
   ]
  },
  {
   "cell_type": "code",
   "execution_count": 94,
   "id": "718f006d",
   "metadata": {},
   "outputs": [
    {
     "data": {
      "text/plain": [
       "'D009422'"
      ]
     },
     "execution_count": 94,
     "metadata": {},
     "output_type": "execute_result"
    }
   ],
   "source": [
    "UI_associated_Name(\"Nervous System Diseases\",tree)"
   ]
  },
  {
   "cell_type": "code",
   "execution_count": 95,
   "id": "e5eff3d7",
   "metadata": {},
   "outputs": [
    {
     "data": {
      "text/plain": [
       "['C10']"
      ]
     },
     "execution_count": 95,
     "metadata": {},
     "output_type": "execute_result"
    }
   ],
   "source": [
    "Numbers_associated_UI(UI_associated_Name(\"Nervous System Diseases\",tree),tree)"
   ]
  },
  {
   "cell_type": "code",
   "execution_count": 96,
   "id": "765d121b",
   "metadata": {},
   "outputs": [
    {
     "data": {
      "text/plain": [
       "['C20', 'C10']"
      ]
     },
     "execution_count": 96,
     "metadata": {},
     "output_type": "execute_result"
    }
   ],
   "source": [
    "parent = Numbers_associated_UI(\"D007154\", tree)+ Numbers_associated_UI('D009422',tree)\n",
    "parent"
   ]
  },
  {
   "cell_type": "code",
   "execution_count": 97,
   "id": "7ce24a1c",
   "metadata": {},
   "outputs": [
    {
     "name": "stdout",
     "output_type": "stream",
     "text": [
      "Autoimmune Hypophysitis\n",
      "Ataxia Telangiectasia\n",
      "Diffuse Cerebral Sclerosis of Schilder\n",
      "Encephalomyelitis, Acute Disseminated\n",
      "Encephalomyelitis, Autoimmune, Experimental\n",
      "Leukoencephalitis, Acute Hemorrhagic\n",
      "Kernicterus\n",
      "Multiple Sclerosis\n",
      "Myasthenia Gravis\n",
      "Myelitis, Transverse\n",
      "Neuritis, Autoimmune, Experimental\n",
      "Neuromyelitis Optica\n",
      "Polyradiculoneuropathy\n",
      "Giant Cell Arteritis\n",
      "Uveomeningoencephalitic Syndrome\n",
      "AIDS Dementia Complex\n",
      "Lambert-Eaton Myasthenic Syndrome\n",
      "Stiff-Person Syndrome\n",
      "POEMS Syndrome\n",
      "Miller Fisher Syndrome\n",
      "Autoimmune Diseases of the Nervous System\n",
      "Guillain-Barre Syndrome\n",
      "Polyradiculoneuropathy, Chronic Inflammatory Demyelinating\n",
      "Demyelinating Autoimmune Diseases, CNS\n",
      "Vasculitis, Central Nervous System\n",
      "Multiple Sclerosis, Chronic Progressive\n",
      "Multiple Sclerosis, Relapsing-Remitting\n",
      "Myasthenia Gravis, Autoimmune, Experimental\n",
      "Nervous System Autoimmune Disease, Experimental\n",
      "Myasthenia Gravis, Neonatal\n",
      "AIDS Arteritis, Central Nervous System\n",
      "Lupus Vasculitis, Central Nervous System\n",
      "Mevalonate Kinase Deficiency\n",
      "Microscopic Polyangiitis\n",
      "Anti-N-Methyl-D-Aspartate Receptor Encephalitis\n"
     ]
    }
   ],
   "source": [
    "descedants(parent,tree)"
   ]
  },
  {
   "cell_type": "code",
   "execution_count": null,
   "id": "13719241",
   "metadata": {},
   "outputs": [],
   "source": []
  }
 ],
 "metadata": {
  "kernelspec": {
   "display_name": "Python 3 (ipykernel)",
   "language": "python",
   "name": "python3"
  },
  "language_info": {
   "codemirror_mode": {
    "name": "ipython",
    "version": 3
   },
   "file_extension": ".py",
   "mimetype": "text/x-python",
   "name": "python",
   "nbconvert_exporter": "python",
   "pygments_lexer": "ipython3",
   "version": "3.9.7"
  }
 },
 "nbformat": 4,
 "nbformat_minor": 5
}
