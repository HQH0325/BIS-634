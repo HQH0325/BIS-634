{
 "cells": [
  {
   "cell_type": "code",
   "execution_count": 12,
   "id": "b487346c",
   "metadata": {},
   "outputs": [],
   "source": [
    "# function temp_tester\n",
    "def temp_tester(normal_temp):\n",
    "    def compare_temp(observed_temp):\n",
    "        if(abs(observed_temp-normal_temp) <= 1):\n",
    "            print(\"TRUE\")\n",
    "        else:\n",
    "            print(\"FALSE\")\n",
    "    return compare_temp"
   ]
  },
  {
   "cell_type": "code",
   "execution_count": 13,
   "id": "4c437672",
   "metadata": {},
   "outputs": [],
   "source": [
    "# Test Code\n",
    "human_tester = temp_tester(37)\n",
    "chicken_tester = temp_tester(41.1)"
   ]
  },
  {
   "cell_type": "code",
   "execution_count": 14,
   "id": "ae67a364",
   "metadata": {},
   "outputs": [
    {
     "name": "stdout",
     "output_type": "stream",
     "text": [
      "TRUE\n",
      "FALSE\n",
      "FALSE\n",
      "FALSE\n",
      "FALSE\n"
     ]
    }
   ],
   "source": [
    "chicken_tester(42) # True -- i.e. not a fever for a chicken\n",
    "human_tester(42)   # False -- this would be a severe fever for a human\n",
    "chicken_tester(43) # False\n",
    "human_tester(35)   # False -- too low\n",
    "human_tester(98.6) # False -- normal in degrees F but our reference temp was in degrees C"
   ]
  }
 ],
 "metadata": {
  "kernelspec": {
   "display_name": "Python 3 (ipykernel)",
   "language": "python",
   "name": "python3"
  },
  "language_info": {
   "codemirror_mode": {
    "name": "ipython",
    "version": 3
   },
   "file_extension": ".py",
   "mimetype": "text/x-python",
   "name": "python",
   "nbconvert_exporter": "python",
   "pygments_lexer": "ipython3",
   "version": "3.9.7"
  }
 },
 "nbformat": 4,
 "nbformat_minor": 5
}
