{
 "cells": [
  {
   "cell_type": "code",
   "execution_count": 2,
   "id": "0fbdb5c9",
   "metadata": {},
   "outputs": [],
   "source": [
    "import pandas as pd\n",
    "import sqlite3\n",
    "with sqlite3.connect(\"hw1-population.db\") as db:\n",
    "    data = pd.read_sql_query(\"SELECT * FROM population\", db)"
   ]
  },
  {
   "cell_type": "code",
   "execution_count": 3,
   "id": "7c1c1739",
   "metadata": {},
   "outputs": [
    {
     "data": {
      "text/html": [
       "<div>\n",
       "<style scoped>\n",
       "    .dataframe tbody tr th:only-of-type {\n",
       "        vertical-align: middle;\n",
       "    }\n",
       "\n",
       "    .dataframe tbody tr th {\n",
       "        vertical-align: top;\n",
       "    }\n",
       "\n",
       "    .dataframe thead th {\n",
       "        text-align: right;\n",
       "    }\n",
       "</style>\n",
       "<table border=\"1\" class=\"dataframe\">\n",
       "  <thead>\n",
       "    <tr style=\"text-align: right;\">\n",
       "      <th></th>\n",
       "      <th>name</th>\n",
       "      <th>age</th>\n",
       "      <th>weight</th>\n",
       "      <th>eyecolor</th>\n",
       "    </tr>\n",
       "  </thead>\n",
       "  <tbody>\n",
       "    <tr>\n",
       "      <th>0</th>\n",
       "      <td>Edna Phelps</td>\n",
       "      <td>88.895690</td>\n",
       "      <td>67.122450</td>\n",
       "      <td>brown</td>\n",
       "    </tr>\n",
       "    <tr>\n",
       "      <th>1</th>\n",
       "      <td>Cara Yasso</td>\n",
       "      <td>9.274597</td>\n",
       "      <td>29.251244</td>\n",
       "      <td>brown</td>\n",
       "    </tr>\n",
       "    <tr>\n",
       "      <th>2</th>\n",
       "      <td>Gail Rave</td>\n",
       "      <td>18.345613</td>\n",
       "      <td>55.347903</td>\n",
       "      <td>brown</td>\n",
       "    </tr>\n",
       "    <tr>\n",
       "      <th>3</th>\n",
       "      <td>Richard Adams</td>\n",
       "      <td>16.367545</td>\n",
       "      <td>70.352184</td>\n",
       "      <td>brown</td>\n",
       "    </tr>\n",
       "    <tr>\n",
       "      <th>4</th>\n",
       "      <td>Krista Slater</td>\n",
       "      <td>49.971604</td>\n",
       "      <td>70.563859</td>\n",
       "      <td>brown</td>\n",
       "    </tr>\n",
       "    <tr>\n",
       "      <th>...</th>\n",
       "      <td>...</td>\n",
       "      <td>...</td>\n",
       "      <td>...</td>\n",
       "      <td>...</td>\n",
       "    </tr>\n",
       "    <tr>\n",
       "      <th>152356</th>\n",
       "      <td>John Fowler</td>\n",
       "      <td>23.930833</td>\n",
       "      <td>71.532569</td>\n",
       "      <td>blue</td>\n",
       "    </tr>\n",
       "    <tr>\n",
       "      <th>152357</th>\n",
       "      <td>Diana Shuffler</td>\n",
       "      <td>21.884819</td>\n",
       "      <td>67.936753</td>\n",
       "      <td>brown</td>\n",
       "    </tr>\n",
       "    <tr>\n",
       "      <th>152358</th>\n",
       "      <td>Kevin Cuningham</td>\n",
       "      <td>87.705907</td>\n",
       "      <td>60.074646</td>\n",
       "      <td>brown</td>\n",
       "    </tr>\n",
       "    <tr>\n",
       "      <th>152359</th>\n",
       "      <td>James Libengood</td>\n",
       "      <td>21.727666</td>\n",
       "      <td>81.774985</td>\n",
       "      <td>brown</td>\n",
       "    </tr>\n",
       "    <tr>\n",
       "      <th>152360</th>\n",
       "      <td>Cathleen Ballance</td>\n",
       "      <td>10.062236</td>\n",
       "      <td>34.327767</td>\n",
       "      <td>brown</td>\n",
       "    </tr>\n",
       "  </tbody>\n",
       "</table>\n",
       "<p>152361 rows × 4 columns</p>\n",
       "</div>"
      ],
      "text/plain": [
       "                     name        age     weight eyecolor\n",
       "0             Edna Phelps  88.895690  67.122450    brown\n",
       "1              Cara Yasso   9.274597  29.251244    brown\n",
       "2               Gail Rave  18.345613  55.347903    brown\n",
       "3           Richard Adams  16.367545  70.352184    brown\n",
       "4           Krista Slater  49.971604  70.563859    brown\n",
       "...                   ...        ...        ...      ...\n",
       "152356        John Fowler  23.930833  71.532569     blue\n",
       "152357     Diana Shuffler  21.884819  67.936753    brown\n",
       "152358    Kevin Cuningham  87.705907  60.074646    brown\n",
       "152359    James Libengood  21.727666  81.774985    brown\n",
       "152360  Cathleen Ballance  10.062236  34.327767    brown\n",
       "\n",
       "[152361 rows x 4 columns]"
      ]
     },
     "execution_count": 3,
     "metadata": {},
     "output_type": "execute_result"
    }
   ],
   "source": [
    "# read data\n",
    "data"
   ]
  },
  {
   "cell_type": "code",
   "execution_count": 4,
   "id": "b53edf10",
   "metadata": {},
   "outputs": [
    {
     "data": {
      "text/plain": [
       "Index(['name', 'age', 'weight', 'eyecolor'], dtype='object')"
      ]
     },
     "execution_count": 4,
     "metadata": {},
     "output_type": "execute_result"
    }
   ],
   "source": [
    "# Check data columns\n",
    "data.columns"
   ]
  },
  {
   "cell_type": "code",
   "execution_count": 5,
   "id": "b9a13800",
   "metadata": {},
   "outputs": [
    {
     "name": "stdout",
     "output_type": "stream",
     "text": [
      "name        137592\n",
      "age         152361\n",
      "weight      129749\n",
      "eyecolor         3\n",
      "dtype: int64\n"
     ]
    }
   ],
   "source": [
    "# Check unique row numbers\n",
    "print(data.nunique())"
   ]
  },
  {
   "cell_type": "code",
   "execution_count": 6,
   "id": "eb6f3762",
   "metadata": {},
   "outputs": [
    {
     "data": {
      "text/plain": [
       "count    152361.000000\n",
       "mean         39.510528\n",
       "std          24.152760\n",
       "min           0.000748\n",
       "25%          19.296458\n",
       "50%          38.468955\n",
       "75%          57.623245\n",
       "max          99.991547\n",
       "Name: age, dtype: float64"
      ]
     },
     "execution_count": 6,
     "metadata": {},
     "output_type": "execute_result"
    }
   ],
   "source": [
    "# describe age\n",
    "data['age'].describe()"
   ]
  },
  {
   "cell_type": "code",
   "execution_count": 7,
   "id": "02d9f324",
   "metadata": {},
   "outputs": [],
   "source": [
    "import matplotlib\n",
    "import matplotlib.pyplot as plt\n",
    "import numpy as np"
   ]
  },
  {
   "cell_type": "code",
   "execution_count": 8,
   "id": "15918a3d",
   "metadata": {},
   "outputs": [
    {
     "data": {
      "image/png": "[encoded data removed]",
      "text/plain": [
       "<Figure size 432x288 with 1 Axes>"
      ]
     },
     "metadata": {
      "needs_background": "light"
     },
     "output_type": "display_data"
    }
   ],
   "source": [
    "# plot the distribution of the ages in the dataset\n",
    "plt.hist(data.age,bins=20, edgecolor = \"black\")\n",
    "plt.ylabel(\"Frequency\")\n",
    "plt.xlabel(\"Age\")\n",
    "plt.title(\"The Distribution of the Ages\")\n",
    "plt.show()"
   ]
  },
  {
   "cell_type": "code",
   "execution_count": 9,
   "id": "47645b97",
   "metadata": {},
   "outputs": [
    {
     "data": {
      "text/plain": [
       "count    152361.000000\n",
       "mean         60.884134\n",
       "std          18.411824\n",
       "min           3.382084\n",
       "25%          58.300135\n",
       "50%          68.000000\n",
       "75%          71.529860\n",
       "max         100.435793\n",
       "Name: weight, dtype: float64"
      ]
     },
     "execution_count": 9,
     "metadata": {},
     "output_type": "execute_result"
    }
   ],
   "source": [
    "# describe weight\n",
    "data['weight'].describe()"
   ]
  },
  {
   "cell_type": "code",
   "execution_count": 10,
   "id": "c0296cfa",
   "metadata": {},
   "outputs": [
    {
     "data": {
      "image/png": "[encoded data removed]",
      "text/plain": [
       "<Figure size 432x288 with 1 Axes>"
      ]
     },
     "metadata": {
      "needs_background": "light"
     },
     "output_type": "display_data"
    }
   ],
   "source": [
    "# plot the distribution of the weight in the dataset\n",
    "plt.hist(data.weight,bins=20, edgecolor = \"black\")\n",
    "plt.ylabel(\"Frequency\")\n",
    "plt.xlabel(\"Weight\")\n",
    "plt.title(\"The Distribution of the Weight\")\n",
    "plt.show()"
   ]
  },
  {
   "cell_type": "code",
   "execution_count": 12,
   "id": "924982da",
   "metadata": {},
   "outputs": [
    {
     "data": {
      "image/png": "[encoded data removed]",
      "text/plain": [
       "<Figure size 432x288 with 1 Axes>"
      ]
     },
     "metadata": {
      "needs_background": "light"
     },
     "output_type": "display_data"
    }
   ],
   "source": [
    "# Make a scatterplot of the weights vs the ages. \n",
    "plt.scatter(data.age, data.weight)\n",
    "plt.xlabel(\"Age\")\n",
    "plt.ylabel(\"Weight\")\n",
    "plt.title(\"The Weights vs The Ages\")\n",
    "plt.show()"
   ]
  },
  {
   "cell_type": "code",
   "execution_count": 13,
   "id": "c36da237",
   "metadata": {},
   "outputs": [
    {
     "data": {
      "text/html": [
       "<div>\n",
       "<style scoped>\n",
       "    .dataframe tbody tr th:only-of-type {\n",
       "        vertical-align: middle;\n",
       "    }\n",
       "\n",
       "    .dataframe tbody tr th {\n",
       "        vertical-align: top;\n",
       "    }\n",
       "\n",
       "    .dataframe thead th {\n",
       "        text-align: right;\n",
       "    }\n",
       "</style>\n",
       "<table border=\"1\" class=\"dataframe\">\n",
       "  <thead>\n",
       "    <tr style=\"text-align: right;\">\n",
       "      <th></th>\n",
       "      <th>name</th>\n",
       "      <th>age</th>\n",
       "      <th>weight</th>\n",
       "      <th>eyecolor</th>\n",
       "    </tr>\n",
       "  </thead>\n",
       "  <tbody>\n",
       "    <tr>\n",
       "      <th>537</th>\n",
       "      <td>Anthony Freeman</td>\n",
       "      <td>41.3</td>\n",
       "      <td>21.7</td>\n",
       "      <td>green</td>\n",
       "    </tr>\n",
       "  </tbody>\n",
       "</table>\n",
       "</div>"
      ],
      "text/plain": [
       "                name   age  weight eyecolor\n",
       "537  Anthony Freeman  41.3    21.7    green"
      ]
     },
     "execution_count": 13,
     "metadata": {},
     "output_type": "execute_result"
    }
   ],
   "source": [
    "data[(data['age'] > 40) & ((data['weight'] < 30))]"
   ]
  },
  {
   "cell_type": "code",
   "execution_count": null,
   "id": "066666da",
   "metadata": {},
   "outputs": [],
   "source": []
  }
 ],
 "metadata": {
  "kernelspec": {
   "display_name": "Python 3 (ipykernel)",
   "language": "python",
   "name": "python3"
  },
  "language_info": {
   "codemirror_mode": {
    "name": "ipython",
    "version": 3
   },
   "file_extension": ".py",
   "mimetype": "text/x-python",
   "name": "python",
   "nbconvert_exporter": "python",
   "pygments_lexer": "ipython3",
   "version": "3.9.7"
  }
 },
 "nbformat": 4,
 "nbformat_minor": 5
}
